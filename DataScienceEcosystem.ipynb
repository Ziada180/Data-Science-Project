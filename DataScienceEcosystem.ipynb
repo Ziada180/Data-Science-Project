{
  "metadata": {
    "kernelspec": {
      "name": "python",
      "display_name": "Python (Pyodide)",
      "language": "python"
    },
    "language_info": {
      "codemirror_mode": {
        "name": "python",
        "version": 3
      },
      "file_extension": ".py",
      "mimetype": "text/x-python",
      "name": "python",
      "nbconvert_exporter": "python",
      "pygments_lexer": "ipython3",
      "version": "3.8"
    }
  },
  "nbformat_minor": 4,
  "nbformat": 4,
  "cells": [
    {
      "cell_type": "markdown",
      "source": "# Data Science Tools and Ecosystem",
      "metadata": {}
    },
    {
      "cell_type": "markdown",
      "source": "In this notebook, Data Science Tools and Ecosystem are summarized.",
      "metadata": {}
    },
    {
      "cell_type": "markdown",
      "source": "Some of the popular languages that Data Scientists use are:\n\n1, Python\n\n2, R\n\n3, SQL\n\n4, Java\n\n5 Julia",
      "metadata": {}
    },
    {
      "cell_type": "markdown",
      "source": "Some of the commonly used libraries used by Data Scientists include:\n\nNumPy\n\nPanda\n\nMatplotlib\n\nTensorFlow\n\nScikit-learn",
      "metadata": {}
    },
    {
      "cell_type": "markdown",
      "source": "Data Science Tools\n\n Talend\n \n Mozenda\n \n Octoparse",
      "metadata": {}
    },
    {
      "cell_type": "markdown",
      "source": "### Below are a few examples of evaluating arithmetic expressions in Python.\n\n+ (addition)\n- (subtraction)\n* (multiplication)\n  \n  / (division)\n  \n  ** (exponentiation)",
      "metadata": {}
    },
    {
      "cell_type": "markdown",
      "source": "This a simple arithmetic expression to mutiply then add integers.\ncode.\n   ",
      "metadata": {}
    },
    {
      "cell_type": "code",
      "source": "code = (4 * 7) + 3\nprint(code)",
      "metadata": {
        "trusted": true
      },
      "outputs": [
        {
          "name": "stdout",
          "text": "31\n",
          "output_type": "stream"
        }
      ],
      "execution_count": 6
    },
    {
      "cell_type": "markdown",
      "source": "This will convert 200 minutes to hours by diving by 60.",
      "metadata": {}
    },
    {
      "cell_type": "code",
      "source": "mins = 200\nhours = mins / 60\nprint(str(hours))",
      "metadata": {
        "trusted": true
      },
      "outputs": [
        {
          "name": "stdout",
          "text": "3.3333333333333335\n",
          "output_type": "stream"
        }
      ],
      "execution_count": 7
    },
    {
      "cell_type": "markdown",
      "source": "List popular languages for Data Science.\n",
      "metadata": {}
    },
    {
      "cell_type": "markdown",
      "source": "<b> Objectives </b>\n<ul><li>Python<li>\n<li>R<li>\n<li>SQL<li>\n<li>JAVA<li><ul>",
      "metadata": {}
    },
    {
      "cell_type": "markdown",
      "source": "## Author\nRav Ahuja\n\nMalika Singla\n\nZiada",
      "metadata": {}
    },
    {
      "cell_type": "code",
      "source": "",
      "metadata": {
        "trusted": true
      },
      "outputs": [],
      "execution_count": null
    }
  ]
}